{
 "cells": [
  {
   "cell_type": "code",
   "execution_count": null,
   "id": "41c903d5",
   "metadata": {},
   "outputs": [],
   "source": [
    "import pandas as pd\n",
    "import numpy as np\n",
    "pd.set_option('display.max_columns', None)\n",
    "import warnings\n",
    "warnings.filterwarnings('ignore')\n",
    "from sklearn.model_selection import cross_val_score\n",
    "from sklearn.model_selection import train_test_split\n",
    "\n",
    "\n",
    "numerical = pd.read_csv('numerical.csv')\n",
    "categorical = pd.read_csv('categorical.csv')\n",
    "targets = pd.read_csv('target.csv')\n",
    "data = pd.concat([numerical, categorical, targets], axis = 1)\n",
    "data['TARGET_B'].value_counts()"
   ]
  },
  {
   "cell_type": "code",
   "execution_count": null,
   "id": "b9a4adfb",
   "metadata": {},
   "outputs": [],
   "source": [
    "data.head()"
   ]
  },
  {
   "cell_type": "code",
   "execution_count": null,
   "id": "ae750080",
   "metadata": {},
   "outputs": [],
   "source": [
    "data.isna().sum().sum()"
   ]
  },
  {
   "cell_type": "code",
   "execution_count": null,
   "id": "fa25352f",
   "metadata": {},
   "outputs": [],
   "source": [
    "data.columns"
   ]
  },
  {
   "cell_type": "code",
   "execution_count": null,
   "id": "6c606b96",
   "metadata": {},
   "outputs": [],
   "source": [
    "data[data['FIRSTDATE_MM'].isna()]"
   ]
  },
  {
   "cell_type": "code",
   "execution_count": null,
   "id": "1ef7055d",
   "metadata": {},
   "outputs": [],
   "source": [
    "numerical.shape"
   ]
  },
  {
   "cell_type": "code",
   "execution_count": null,
   "id": "9405f54a",
   "metadata": {},
   "outputs": [],
   "source": [
    "data.head()"
   ]
  },
  {
   "cell_type": "code",
   "execution_count": null,
   "id": "ee05f7a8",
   "metadata": {},
   "outputs": [],
   "source": [
    "# Importing the necessary libraries\n",
    "import pandas as pd\n",
    "from sklearn.ensemble import RandomForestClassifier\n",
    "from sklearn.model_selection import train_test_split\n",
    "from sklearn.metrics import accuracy_score\n",
    "from sklearn.utils import resample\n",
    "\n",
    "\n"
   ]
  },
  {
   "cell_type": "code",
   "execution_count": null,
   "id": "524536a7",
   "metadata": {},
   "outputs": [],
   "source": [
    "y = data['TARGET_B']\n",
    "X = data.drop(['TARGET_B','TARGET_D'], axis = 1)\n",
    "\n",
    "numericalX = X.select_dtypes(np.number)\n",
    "categoricalX = X.select_dtypes(np.object)\n",
    "\n",
    "# we OneHotEncode the categoricals so we can use the same dataset to perform a regression later (in the lab).\n",
    "# it is not needed for a DecisionTree or RandomForest model\n",
    "from sklearn.preprocessing import OneHotEncoder\n",
    "encoder = OneHotEncoder(drop='first').fit(categoricalX)\n",
    "encoded_categorical = encoder.transform(categoricalX).toarray()\n",
    "encoded_categorical = pd.DataFrame(encoded_categorical)\n",
    "X = pd.concat([numericalX, encoded_categorical], axis = 1)\n",
    "\n",
    "# Note: we need to do train/test split before upsampling, and then only upsample the training set - Why?\n",
    "from sklearn.model_selection import train_test_split\n",
    "X_train, X_test, y_train, y_test = train_test_split(X, y, test_size=0.2, random_state=0)"
   ]
  },
  {
   "cell_type": "code",
   "execution_count": null,
   "id": "7b7c4d90",
   "metadata": {},
   "outputs": [],
   "source": [
    "#Upsampling\n",
    "\n",
    "\n",
    "# for UPnsampling we need to temporarily concat X_train and y_train\n",
    "trainset = pd.concat([X_train, y_train], axis=1)\n",
    "# quicker way to downsample category 0:\n",
    "category_1 = trainset[trainset['TARGET_B']== 1].sample(len(trainset[trainset['TARGET_B']==0]),replace=True)\n",
    "print(category_1.shape)\n",
    "\n",
    "category_0 = trainset[trainset['TARGET_B']== 0 ]\n",
    "trainset_new = pd.concat([category_0, category_1], axis = 0)\n",
    "trainset_new = trainset_new.sample(frac =1) #randomize the rows\n",
    "X_train = trainset_new.drop(['TARGET_B'], axis=1)\n",
    "y_train = trainset_new['TARGET_B']\n",
    "#data = data.reset_index(drop=True)\n",
    "print(X_train.shape)"
   ]
  },
  {
   "cell_type": "code",
   "execution_count": null,
   "id": "a2d59156",
   "metadata": {},
   "outputs": [],
   "source": [
    "y_train.shape"
   ]
  },
  {
   "cell_type": "code",
   "execution_count": null,
   "id": "30576b61",
   "metadata": {},
   "outputs": [],
   "source": [
    "y_test.value_counts()"
   ]
  },
  {
   "cell_type": "code",
   "execution_count": null,
   "id": "9ac1412c",
   "metadata": {},
   "outputs": [],
   "source": [
    "y_train.value_counts()"
   ]
  },
  {
   "cell_type": "code",
   "execution_count": null,
   "id": "a2e4425f",
   "metadata": {},
   "outputs": [],
   "source": [
    "X.columns = [str(c) for c in X.columns]\n"
   ]
  },
  {
   "cell_type": "code",
   "execution_count": null,
   "id": "29deb757",
   "metadata": {},
   "outputs": [],
   "source": [
    "X_train.columns = X_train.columns.astype(str)\n",
    "X_test.columns = X_test.columns.astype(str)"
   ]
  },
  {
   "cell_type": "code",
   "execution_count": null,
   "id": "b3f34106",
   "metadata": {},
   "outputs": [],
   "source": [
    "from sklearn.ensemble import RandomForestClassifier\n",
    "from sklearn.metrics import confusion_matrix\n",
    "\n",
    "clf = RandomForestClassifier(max_depth=5,\n",
    "                             min_samples_split=20,\n",
    "                             min_samples_leaf =20,\n",
    "                             max_samples=0.2,\n",
    "                             random_state = 42)\n",
    "clf.fit(X_train, y_train)\n",
    "print(clf.score(X_train, y_train))\n",
    "print(clf.score(X_test, y_test))\n",
    "\n",
    "y_pred = clf.predict(X_test)\n",
    "display(y_test.value_counts())\n",
    "display(confusion_matrix(y_test, y_pred))"
   ]
  },
  {
   "cell_type": "code",
   "execution_count": null,
   "id": "fbe28a3d",
   "metadata": {},
   "outputs": [],
   "source": [
    "from sklearn.metrics import precision_score\n",
    "from sklearn.metrics import accuracy_score\n",
    "from sklearn.metrics import recall_score\n",
    "from sklearn.metrics import f1_score\n",
    "from sklearn.metrics import r2_score\n",
    "\n"
   ]
  },
  {
   "cell_type": "code",
   "execution_count": null,
   "id": "d8312d0c",
   "metadata": {},
   "outputs": [],
   "source": [
    "clf = RandomForestClassifier(max_depth=10,\n",
    "                             min_samples_split=20,\n",
    "                             min_samples_leaf=20).fit(X_train, y_train)\n",
    "pred_RF = clf.predict(X_test)\n",
    "\n",
    "print('accuracy:', accuracy_score(y_test, pred_RF))\n",
    "print(\"precision: \", precision_score(y_test, pred_RF))\n",
    "print(\"recall: \", recall_score(y_test, pred_RF))\n",
    "print(\"f1: \", f1_score(y_test, pred_RF))\n"
   ]
  },
  {
   "cell_type": "code",
   "execution_count": null,
   "id": "e70807ef",
   "metadata": {},
   "outputs": [],
   "source": [
    "# To check the scores\n",
    "from sklearn.feature_selection import SelectKBest\n",
    "from sklearn.feature_selection import chi2\n",
    "\n",
    "model = SelectKBest(chi2, k=10).fit(X, y)\n",
    "df = pd.DataFrame(data= model.scores_, columns = ['score'])\n",
    "df['Column'] = X.columns\n",
    "print(df.sort_values(by = ['score'], ascending = False).head(10))"
   ]
  },
  {
   "cell_type": "code",
   "execution_count": null,
   "id": "29ce7e86",
   "metadata": {},
   "outputs": [],
   "source": [
    "cols = df.sort_values(by = ['score'], ascending = False).head(30)['Column']\n",
    "cols"
   ]
  },
  {
   "cell_type": "code",
   "execution_count": null,
   "id": "30bbe821",
   "metadata": {},
   "outputs": [],
   "source": [
    "X_train=X_train[cols]\n",
    "X_test=X_test[cols]"
   ]
  },
  {
   "cell_type": "code",
   "execution_count": null,
   "id": "c726f5b7",
   "metadata": {},
   "outputs": [],
   "source": [
    "lf = RandomForestClassifier(max_depth=5,\n",
    "                             min_samples_split=20,\n",
    "                             min_samples_leaf =20,\n",
    "                             max_samples=0.2,\n",
    "                             random_state = 42)\n",
    "clf.fit(X_train, y_train)\n",
    "print(clf.score(X_train, y_train))\n",
    "print(clf.score(X_test, y_test))\n",
    "\n",
    "y_pred = clf.predict(X_test)\n",
    "display(y_test.value_counts())\n",
    "display(confusion_matrix(y_test, y_pred))"
   ]
  },
  {
   "cell_type": "markdown",
   "id": "cf9f4ed7",
   "metadata": {},
   "source": [
    "## Lab | Final regression model in \"Health Care for All\" Case\n"
   ]
  },
  {
   "cell_type": "code",
   "execution_count": null,
   "id": "ccc37910",
   "metadata": {},
   "outputs": [],
   "source": []
  },
  {
   "cell_type": "code",
   "execution_count": null,
   "id": "5829a2fb",
   "metadata": {},
   "outputs": [],
   "source": [
    "#define new data fram that only includes rows where TARGET_B is equal to 1:\n",
    "df_donors = data[data['TARGET_B']==1]\n",
    "X= df_donors.drop(columns=['TARGET_B','TARGET_D'])\n",
    "y = df_donors['TARGET_D']"
   ]
  },
  {
   "cell_type": "code",
   "execution_count": null,
   "id": "33ecee0f",
   "metadata": {},
   "outputs": [],
   "source": [
    "X.isna().sum().sum()"
   ]
  },
  {
   "cell_type": "code",
   "execution_count": null,
   "id": "3fb42bdd",
   "metadata": {},
   "outputs": [],
   "source": [
    "y.isna().sum().sum()"
   ]
  },
  {
   "cell_type": "code",
   "execution_count": null,
   "id": "55d4b794",
   "metadata": {},
   "outputs": [],
   "source": [
    "\n",
    "# Note: we need to do train/test split before upsampling, and then only upsample the training set - Why?\n",
    "from sklearn.model_selection import train_test_split\n",
    "X_train, X_test, y_train, y_test = train_test_split(X, y, test_size=0.2, random_state=0)"
   ]
  },
  {
   "cell_type": "code",
   "execution_count": null,
   "id": "f0762190",
   "metadata": {},
   "outputs": [],
   "source": [
    "X_train_num = X_train.select_dtypes(np.number)\n",
    "X_train_cat = X_train.select_dtypes(np.object)\n",
    "X_test_cat=X_test.select_dtypes(np.object)\n",
    "X_test_num=X_test.select_dtypes(np.number)\n",
    "\n",
    "# we OneHotEncode the categoricals so we can use the same dataset to perform a regression later (in the lab).\n",
    "# it is not needed for a DecisionTree or RandomForest model\n",
    "from sklearn.preprocessing import OneHotEncoder\n",
    "encoder = OneHotEncoder(drop='first').fit(X_train_cat)\n",
    "encoded_categorical = encoder.transform(X_train_cat).toarray()\n",
    "X_train_cat_encoded = pd.DataFrame(encoded_categorical)\n",
    "\n"
   ]
  },
  {
   "cell_type": "code",
   "execution_count": null,
   "id": "5e689bf5",
   "metadata": {},
   "outputs": [],
   "source": [
    "#encode test\n",
    "encoded_categorical_1 = encoder.transform(X_test_cat).toarray()\n",
    "X_test_cat_encoded = pd.DataFrame(encoded_categorical_1)"
   ]
  },
  {
   "cell_type": "code",
   "execution_count": null,
   "id": "a1a96342",
   "metadata": {},
   "outputs": [],
   "source": [
    "#transform\n",
    "from sklearn.preprocessing import MinMaxScaler\n",
    "transformer = MinMaxScaler().fit(X_train_num)\n",
    "X_train_norm = transformer.transform(X_train_num)\n",
    "print(X_train_norm.shape)\n",
    "X_train_num_scale = pd.DataFrame(X_train_norm, index = X_train_num.index, columns=X_train_num.columns)\n",
    "X_train_num_scale.head()"
   ]
  },
  {
   "cell_type": "code",
   "execution_count": null,
   "id": "c5cb93d8",
   "metadata": {},
   "outputs": [],
   "source": [
    "X_train_num_scale.isna().sum().sum()"
   ]
  },
  {
   "cell_type": "code",
   "execution_count": null,
   "id": "5d2969ea",
   "metadata": {},
   "outputs": [],
   "source": [
    "X_test_norm = transformer.transform(X_test_num)\n",
    "print(X_test_norm.shape)\n",
    "X_test_num_scale = pd.DataFrame(X_test_norm, index = X_test_num.index, columns=X_test_num.columns)\n",
    "X_test_num_scale.head()"
   ]
  },
  {
   "cell_type": "code",
   "execution_count": null,
   "id": "3e36fd6d",
   "metadata": {},
   "outputs": [],
   "source": [
    "X_test_num_scale.reset_index(drop=True, inplace=True)\n",
    "X_test_cat_encoded.reset_index(drop=True, inplace=True)\n",
    "X_test = pd.concat([X_test_num_scale, X_test_cat_encoded], axis=1)"
   ]
  },
  {
   "cell_type": "code",
   "execution_count": null,
   "id": "01917141",
   "metadata": {},
   "outputs": [],
   "source": [
    "X_test_num_scale.shape"
   ]
  },
  {
   "cell_type": "code",
   "execution_count": null,
   "id": "3f69238a",
   "metadata": {},
   "outputs": [],
   "source": [
    " X_test_cat_encoded.shape"
   ]
  },
  {
   "cell_type": "code",
   "execution_count": null,
   "id": "6a26f0b8",
   "metadata": {},
   "outputs": [],
   "source": [
    "X_test.head()"
   ]
  },
  {
   "cell_type": "code",
   "execution_count": null,
   "id": "dc682b69",
   "metadata": {},
   "outputs": [],
   "source": [
    "X_test.isna().sum().sum()"
   ]
  },
  {
   "cell_type": "code",
   "execution_count": null,
   "id": "05cf0228",
   "metadata": {},
   "outputs": [],
   "source": [
    "X_train.isna().sum().sum()"
   ]
  },
  {
   "cell_type": "code",
   "execution_count": null,
   "id": "4b67f041",
   "metadata": {},
   "outputs": [],
   "source": [
    "X_train.columns = X_train.columns.astype(str)\n",
    "X_test.columns = X_test.columns.astype(str)"
   ]
  },
  {
   "cell_type": "code",
   "execution_count": null,
   "id": "1df2b00f",
   "metadata": {},
   "outputs": [],
   "source": [
    "from sklearn.linear_model import LinearRegression\n",
    "\n",
    "#Fit a linear regression model to the training data\n",
    "model = LinearRegression()\n",
    "model.fit(X_train, y_train)\n",
    "\n",
    "# Use the model to make predictions on the test data\n",
    "y_pred = model.predict(X_test)\n",
    "\n",
    "# Evaluate the performance of the model using a metric such as mean squared error\n",
    "from sklearn.metrics import mean_squared_error\n",
    "mse = mean_squared_error(y_test, y_pred)\n",
    "print(\"Mean squared error:\", mse)"
   ]
  },
  {
   "cell_type": "code",
   "execution_count": null,
   "id": "130132d8",
   "metadata": {},
   "outputs": [],
   "source": []
  }
 ],
 "metadata": {
  "kernelspec": {
   "display_name": "Python 3 (ipykernel)",
   "language": "python",
   "name": "python3"
  },
  "language_info": {
   "codemirror_mode": {
    "name": "ipython",
    "version": 3
   },
   "file_extension": ".py",
   "mimetype": "text/x-python",
   "name": "python",
   "nbconvert_exporter": "python",
   "pygments_lexer": "ipython3",
   "version": "3.9.7"
  }
 },
 "nbformat": 4,
 "nbformat_minor": 5
}
